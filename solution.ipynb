{
 "cells": [
  {
   "cell_type": "code",
   "execution_count": 1,
   "id": "b8190cba",
   "metadata": {},
   "outputs": [],
   "source": [
    "def solution(start,length):\n",
    "    checksum=0\n",
    "    for i in range(length):\n",
    "        start_id=start+(length*i)\n",
    "        end_id=start_id+length-i\n",
    "        checksum^=xor_range(start_id,end_id)\n",
    "    return checksum"
   ]
  },
  {
   "cell_type": "code",
   "execution_count": 2,
   "id": "5be5e652",
   "metadata": {},
   "outputs": [],
   "source": [
    "def xor_range(start_id,end_id):\n",
    "    xor_sum=0\n",
    "    for i in range(start_id,end_id):\n",
    "        xor_sum^=i\n",
    "    return xor_sum"
   ]
  },
  {
   "cell_type": "code",
   "execution_count": 3,
   "id": "0a662c7a",
   "metadata": {},
   "outputs": [
    {
     "data": {
      "text/plain": [
       "2"
      ]
     },
     "execution_count": 3,
     "metadata": {},
     "output_type": "execute_result"
    }
   ],
   "source": [
    "solution(0,3)"
   ]
  },
  {
   "cell_type": "code",
   "execution_count": 4,
   "id": "1e72f7db",
   "metadata": {},
   "outputs": [
    {
     "data": {
      "text/plain": [
       "14"
      ]
     },
     "execution_count": 4,
     "metadata": {},
     "output_type": "execute_result"
    }
   ],
   "source": [
    "solution(17,4)"
   ]
  },
  {
   "cell_type": "code",
   "execution_count": null,
   "id": "331aa45c",
   "metadata": {},
   "outputs": [],
   "source": []
  }
 ],
 "metadata": {
  "kernelspec": {
   "display_name": "Python 3 (ipykernel)",
   "language": "python",
   "name": "python3"
  },
  "language_info": {
   "codemirror_mode": {
    "name": "ipython",
    "version": 3
   },
   "file_extension": ".py",
   "mimetype": "text/x-python",
   "name": "python",
   "nbconvert_exporter": "python",
   "pygments_lexer": "ipython3",
   "version": "3.11.3"
  }
 },
 "nbformat": 4,
 "nbformat_minor": 5
}
